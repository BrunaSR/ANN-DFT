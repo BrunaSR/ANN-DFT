{
 "cells": [
  {
   "cell_type": "markdown",
   "id": "exterior-alabama",
   "metadata": {},
   "source": [
    "# Data to test the Neural Networks\n",
    "\n",
    "This code generate random data to test the two neural networks developed to estimate real and imaginary part of the discrete Fourier transform."
   ]
  },
  {
   "cell_type": "code",
   "execution_count": 2,
   "id": "creative-clearance",
   "metadata": {},
   "outputs": [],
   "source": [
    "# Import the libraries\n",
    "import matplotlib.pyplot as plt\n",
    "import numpy as np\n",
    "import random"
   ]
  },
  {
   "cell_type": "markdown",
   "id": "fluid-wheel",
   "metadata": {},
   "source": [
    "### Exponencial signal"
   ]
  },
  {
   "cell_type": "code",
   "execution_count": null,
   "id": "tutorial-sugar",
   "metadata": {},
   "outputs": [],
   "source": [
    "n = 10 # Number of examples\n",
    "t = np.linspace(0, 1, 100) # Time vector\n",
    "x_test = []\n",
    "\n",
    "for i in range(n):\n",
    "    a = random.randint(1, 20)\n",
    "    exponencial = np.exp(-a*t) \n",
    "    x_test.append(exponencial)\n",
    "\n",
    "x_test = np.array(x_test)\n",
    "print(x_test.shape)"
   ]
  },
  {
   "cell_type": "markdown",
   "id": "induced-shield",
   "metadata": {},
   "source": [
    "### Exponential signal with noise"
   ]
  },
  {
   "cell_type": "code",
   "execution_count": null,
   "id": "monthly-courtesy",
   "metadata": {},
   "outputs": [],
   "source": [
    "n = 20000 # Number of examples\n",
    "t = np.linspace(0, 1, 100) # Time vector\n",
    "x_test = []\n",
    "\n",
    "for i in range(n):\n",
    "    a = random.uniform(1, 20)\n",
    "    exponencial = np.exp(-a*t) + np.random.randn(100)\n",
    "    x_test.append(exponencial)\n",
    "\n",
    "x_test = np.array(x_test)\n",
    "print(x_test.shape)"
   ]
  },
  {
   "cell_type": "markdown",
   "id": "frequent-holly",
   "metadata": {},
   "source": [
    "### Sum of Exponencials"
   ]
  },
  {
   "cell_type": "code",
   "execution_count": null,
   "id": "tight-needle",
   "metadata": {},
   "outputs": [],
   "source": [
    "n = 30000 # Number of Examples\n",
    "t = np.linspace(-1, 0,100) # Time vector\n",
    "x_test = []\n",
    "\n",
    "for e in range(n):\n",
    "    n_exp = random.randint(1, 10) # Number of exp\n",
    "    signal = 0\n",
    "    for i in range(n_exp):\n",
    "        a = random.randint(1, 50)\n",
    "        aux = np.exp(a*t)\n",
    "        signal += aux 3 # Sum of different exponencials\n",
    "    signal = signal + np.random.randn(100)\n",
    "    x_test.append(signal)\n",
    "\n",
    "x_test = np.array(x_test)\n",
    "print(x_test.shape)"
   ]
  },
  {
   "cell_type": "markdown",
   "id": "nutritional-peoples",
   "metadata": {},
   "source": [
    "### Impulsive train"
   ]
  },
  {
   "cell_type": "code",
   "execution_count": null,
   "id": "stone-presence",
   "metadata": {},
   "outputs": [],
   "source": [
    "n = 20 # Number of examples\n",
    "x_test = []\n",
    "\n",
    "for i in range(n):\n",
    "    t = np.ones(100) # Time vector\n",
    "    T = random.randint(1, 50) # Period of impulse\n",
    "    position = np.arange(100)\n",
    "    indices = position % T == 0\n",
    "    delta = t*indices\n",
    "    x_test.append(delta)\n",
    "    \n",
    "x_test = np.array(x_test)\n",
    "print(x_test.shape)  "
   ]
  },
  {
   "cell_type": "markdown",
   "id": "weird-concrete",
   "metadata": {},
   "source": [
    "### Step Function"
   ]
  },
  {
   "cell_type": "code",
   "execution_count": null,
   "id": "professional-spencer",
   "metadata": {},
   "outputs": [],
   "source": [
    "n = 50 # Number of examples\n",
    "x_test = []\n",
    "\n",
    "for c in range(n):\n",
    "    u = np.zeros(100)\n",
    "    T = random.randint(0, 95) # u(t - T)\n",
    "    while T < 100:\n",
    "        u[T] = 1\n",
    "        T += 1\n",
    "    A = random.randint(1, 20)  # A.u(t - T)\n",
    "    u = A*u\n",
    "    x_test.append(u)\n",
    "x_test = np.array(x_test)\n",
    "print(x_test.shape)"
   ]
  },
  {
   "cell_type": "markdown",
   "id": "unsigned-balloon",
   "metadata": {},
   "source": [
    "### Rect Function"
   ]
  },
  {
   "cell_type": "code",
   "execution_count": null,
   "id": "pharmaceutical-timber",
   "metadata": {},
   "outputs": [],
   "source": [
    "n = 25 # Number of examples\n",
    "x = np.linspace(-30, 30, 100)\n",
    "x_test = []\n",
    "for c in range(n):\n",
    "    t = random.randint(1, 30)\n",
    "    r = np.zeros(100)\n",
    "    for i in range(x.shape[0]):\n",
    "        if x[i] > -t and x[i] < t: \n",
    "            r[i] = 1.0\n",
    "    x_test.append(r)\n",
    "    \n",
    "x_test = np.array(x_test)\n",
    "print(x_test.shape)"
   ]
  },
  {
   "cell_type": "markdown",
   "id": "dependent-transport",
   "metadata": {},
   "source": [
    "### Sinc function"
   ]
  },
  {
   "cell_type": "code",
   "execution_count": null,
   "id": "cleared-absorption",
   "metadata": {},
   "outputs": [],
   "source": [
    "n = 30 # Number of examples\n",
    "t = np.linspace(-15, 15, 100) # Time vector\n",
    "x_test = []\n",
    "\n",
    "for c in range(n):\n",
    "    f = random.randint(1, 50) # Random frequency\n",
    "    sinc = np.sinc(t*f)\n",
    "    x_test.append(sinc)\n",
    "    \n",
    "x_test = np.array(x_test)\n",
    "print(x_test.shape)"
   ]
  },
  {
   "cell_type": "markdown",
   "id": "certified-penetration",
   "metadata": {},
   "source": [
    "example = $e^{(-at)}cos(t)u(t)$ \\\n",
    "    -$a$ = random variable\\\n",
    "    - $e$ = exponencial \\\n",
    "    - $t$ = time vector\\\n",
    "    - $u$ = step function \\\n",
    "    - $cos$ = cos function"
   ]
  },
  {
   "cell_type": "code",
   "execution_count": null,
   "id": "upper-genesis",
   "metadata": {},
   "outputs": [],
   "source": [
    "n = 50000 # Number of examples\n",
    "t = np.linspace(0, 1, 100) # Time vector\n",
    "x_test = []\n",
    "for e in range(n):\n",
    "    signal = 0\n",
    "    a = random.randint(1, 50) # a -> exponencial\n",
    "    f = random.randint(1, 10) # Frequency of cos\n",
    "    signal = np.exp(-a*t)*np.cos(2*np.pi*f*t)\n",
    "    signal = signal + np.random.randn(100) # Add a noise\n",
    "    x_test.append(signal)\n",
    "\n",
    "x_test = np.array(x_test)\n",
    "print(x_test.shape)"
   ]
  },
  {
   "cell_type": "markdown",
   "id": "closed-boundary",
   "metadata": {},
   "source": [
    "example = $t^{b}e^{(-at)}u(t)$ \\\n",
    "    -$a$ = random variable\\\n",
    "    -$b$ = random variable\\\n",
    "    - $e$ = exponencial \\\n",
    "    - $t$ = time vector\\\n",
    "    - $u$ = step function "
   ]
  },
  {
   "cell_type": "code",
   "execution_count": null,
   "id": "united-transcription",
   "metadata": {},
   "outputs": [],
   "source": [
    "n = 50000 # Number of examples\n",
    "t = np.linspace(0, 1, 100) # Time vector\n",
    "x_test = []\n",
    "for e in range(n):\n",
    "    signal = 0\n",
    "    a = random.randint(1, 50) # a->exponencial\n",
    "    b = random.randint(1, 10) # b-> t\n",
    "    signal = np.exp(-a*t)*np.power(t, b)\n",
    "    x_data1.append(signal)\n",
    "    \n",
    "x_test = np.array(x_test)\n",
    "print(x_test.shape)"
   ]
  }
 ],
 "metadata": {
  "kernelspec": {
   "display_name": "Python 3",
   "language": "python",
   "name": "python3"
  },
  "language_info": {
   "codemirror_mode": {
    "name": "ipython",
    "version": 3
   },
   "file_extension": ".py",
   "mimetype": "text/x-python",
   "name": "python",
   "nbconvert_exporter": "python",
   "pygments_lexer": "ipython3",
   "version": "3.9.2"
  }
 },
 "nbformat": 4,
 "nbformat_minor": 5
}
